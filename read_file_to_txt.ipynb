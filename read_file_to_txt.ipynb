{
 "cells": [
  {
   "cell_type": "code",
   "execution_count": 83,
   "id": "9d433cf3",
   "metadata": {},
   "outputs": [],
   "source": [
    "import os\n",
    "import sys\n",
    "from markitdown import MarkItDown\n",
    "\n",
    "# poetry add markitdown --extras \"pdf docx pptx xlsx xls\""
   ]
  },
  {
   "cell_type": "code",
   "execution_count": null,
   "id": "04c32c5d",
   "metadata": {},
   "outputs": [],
   "source": [
    "exclude_list = [\".venv\", \"__pycache__\", \"input\", \"output\", \"documents\", \"__init__.py\", \".gitignore\"]"
   ]
  },
  {
   "cell_type": "code",
   "execution_count": 85,
   "id": "ef5962a3",
   "metadata": {},
   "outputs": [],
   "source": [
    "full_path = input(\"Enter the folder directory:\")\n",
    "\n",
    "try:\n",
    "    initial_list = os.listdir(full_path)\n",
    "    #print(initial_list)\n",
    "    #root_dir = full_path.rsplit(\"\\\\\")[-1]\n",
    "except OSError as e:\n",
    "    print(\"Error:\", e)\n",
    "    sys.exit(99)    "
   ]
  },
  {
   "cell_type": "code",
   "execution_count": 86,
   "id": "c5810663",
   "metadata": {},
   "outputs": [
    {
     "name": "stdout",
     "output_type": "stream",
     "text": [
      "['C:\\\\Users\\\\aibag\\\\git_repo\\\\learn_fast_api\\\\simple_books_crud\\\\database', 'C:\\\\Users\\\\aibag\\\\git_repo\\\\learn_fast_api\\\\simple_books_crud\\\\schema', 'C:\\\\Users\\\\aibag\\\\git_repo\\\\learn_fast_api\\\\simple_books_crud\\\\services', 'C:\\\\Users\\\\aibag\\\\git_repo\\\\learn_fast_api\\\\simple_books_crud\\\\test_1', 'C:\\\\Users\\\\aibag\\\\git_repo\\\\learn_fast_api\\\\simple_books_crud\\\\test_1\\\\test_2', 'C:\\\\Users\\\\aibag\\\\git_repo\\\\learn_fast_api\\\\simple_books_crud\\\\test_1\\\\test_2\\\\test_3', 'C:\\\\Users\\\\aibag\\\\git_repo\\\\learn_fast_api\\\\simple_books_crud\\\\utils', 'C:\\\\Users\\\\aibag\\\\git_repo\\\\learn_fast_api\\\\simple_books_crud']\n"
     ]
    }
   ],
   "source": [
    "# Get all sub directory\n",
    "def find_all_subfolders(search_path):\n",
    "    \"\"\"\n",
    "    Recursively finds all subdirectories within a given path.\n",
    "    \"\"\"\n",
    "    all_folders = []\n",
    "    # Check if the path is valid before proceeding\n",
    "    if not os.path.isdir(search_path):\n",
    "        print(f\"Error: '{search_path}' is not a valid directory.\")\n",
    "        #return all_folders\n",
    "\n",
    "    try:\n",
    "        # Get all items directly within the current search_path\n",
    "        items_in_dir = os.listdir(search_path)\n",
    "    except OSError as e:\n",
    "        print(f\"Error reading directory {search_path}: {e}\")\n",
    "        return all_folders\n",
    "\n",
    "    for item in items_in_dir:\n",
    "        full_item_path = os.path.join(search_path, item)\n",
    "\n",
    "        if item in exclude_list:\n",
    "            continue        \n",
    "\n",
    "        # Check if this item is a directory\n",
    "        if os.path.isdir(full_item_path):\n",
    "            # 1. Add this found directory to our list\n",
    "            all_folders.append(full_item_path)\n",
    "            \n",
    "            # 2. Recursively call the function on the found directory\n",
    "            #    and extend (merge) the list with the results.\n",
    "            #    Using .extend() is key to getting a flat list!\n",
    "            sub_folders = find_all_subfolders(full_item_path)\n",
    "            all_folders.extend(sub_folders) \n",
    "            \n",
    "    return all_folders\n",
    "\n",
    "\n",
    "subfolders = find_all_subfolders(full_path)\n",
    "subfolders.append(full_path)\n",
    "\n",
    "print(subfolders)"
   ]
  },
  {
   "cell_type": "code",
   "execution_count": null,
   "id": "9d500348",
   "metadata": {},
   "outputs": [
    {
     "name": "stdout",
     "output_type": "stream",
     "text": [
      "****** subfolder: C:\\Users\\aibag\\git_repo\\learn_fast_api\\simple_books_crud\\database\n",
      "****** item: C:\\Users\\aibag\\git_repo\\learn_fast_api\\simple_books_crud\\database\\models.py\n",
      "****** item: C:\\Users\\aibag\\git_repo\\learn_fast_api\\simple_books_crud\\database\\__init__.py\n",
      "****** item: C:\\Users\\aibag\\git_repo\\learn_fast_api\\simple_books_crud\\database\\__pycache__\n",
      "****** subfolder: C:\\Users\\aibag\\git_repo\\learn_fast_api\\simple_books_crud\\schema\n",
      "****** item: C:\\Users\\aibag\\git_repo\\learn_fast_api\\simple_books_crud\\schema\\request.py\n",
      "****** item: C:\\Users\\aibag\\git_repo\\learn_fast_api\\simple_books_crud\\schema\\response.py\n",
      "****** item: C:\\Users\\aibag\\git_repo\\learn_fast_api\\simple_books_crud\\schema\\__init__.py\n",
      "****** item: C:\\Users\\aibag\\git_repo\\learn_fast_api\\simple_books_crud\\schema\\__pycache__\n",
      "****** subfolder: C:\\Users\\aibag\\git_repo\\learn_fast_api\\simple_books_crud\\services\n",
      "****** item: C:\\Users\\aibag\\git_repo\\learn_fast_api\\simple_books_crud\\services\\book_service.py\n",
      "****** item: C:\\Users\\aibag\\git_repo\\learn_fast_api\\simple_books_crud\\services\\__init__.py\n",
      "****** item: C:\\Users\\aibag\\git_repo\\learn_fast_api\\simple_books_crud\\services\\__pycache__\n",
      "****** subfolder: C:\\Users\\aibag\\git_repo\\learn_fast_api\\simple_books_crud\\test_1\n",
      "****** item: C:\\Users\\aibag\\git_repo\\learn_fast_api\\simple_books_crud\\test_1\\test_1.txt\n",
      "****** item: C:\\Users\\aibag\\git_repo\\learn_fast_api\\simple_books_crud\\test_1\\test_2\n",
      "****** subfolder: C:\\Users\\aibag\\git_repo\\learn_fast_api\\simple_books_crud\\test_1\\test_2\n",
      "****** item: C:\\Users\\aibag\\git_repo\\learn_fast_api\\simple_books_crud\\test_1\\test_2\\test_2.txt\n",
      "****** item: C:\\Users\\aibag\\git_repo\\learn_fast_api\\simple_books_crud\\test_1\\test_2\\test_3\n",
      "****** subfolder: C:\\Users\\aibag\\git_repo\\learn_fast_api\\simple_books_crud\\test_1\\test_2\\test_3\n",
      "****** item: C:\\Users\\aibag\\git_repo\\learn_fast_api\\simple_books_crud\\test_1\\test_2\\test_3\\test_3.txt\n",
      "****** subfolder: C:\\Users\\aibag\\git_repo\\learn_fast_api\\simple_books_crud\\utils\n",
      "****** item: C:\\Users\\aibag\\git_repo\\learn_fast_api\\simple_books_crud\\utils\\logger.py\n",
      "****** item: C:\\Users\\aibag\\git_repo\\learn_fast_api\\simple_books_crud\\utils\\__pycache__\n",
      "****** subfolder: C:\\Users\\aibag\\git_repo\\learn_fast_api\\simple_books_crud\n",
      "****** item: C:\\Users\\aibag\\git_repo\\learn_fast_api\\simple_books_crud\\books.py\n",
      "****** item: C:\\Users\\aibag\\git_repo\\learn_fast_api\\simple_books_crud\\BOOKS_DATA.JSON\n",
      "****** item: C:\\Users\\aibag\\git_repo\\learn_fast_api\\simple_books_crud\\books_postgres.py\n",
      "****** item: C:\\Users\\aibag\\git_repo\\learn_fast_api\\simple_books_crud\\database\n",
      "****** item: C:\\Users\\aibag\\git_repo\\learn_fast_api\\simple_books_crud\\schema\n",
      "****** item: C:\\Users\\aibag\\git_repo\\learn_fast_api\\simple_books_crud\\scripts.sql\n",
      "****** item: C:\\Users\\aibag\\git_repo\\learn_fast_api\\simple_books_crud\\services\n",
      "****** item: C:\\Users\\aibag\\git_repo\\learn_fast_api\\simple_books_crud\\test.ipynb\n",
      "****** item: C:\\Users\\aibag\\git_repo\\learn_fast_api\\simple_books_crud\\test_1\n",
      "****** item: C:\\Users\\aibag\\git_repo\\learn_fast_api\\simple_books_crud\\utils\n",
      "****** item: C:\\Users\\aibag\\git_repo\\learn_fast_api\\simple_books_crud\\__pycache__\n"
     ]
    }
   ],
   "source": [
    "# process files in each subfolder\n",
    "\n",
    "md_text = \"\"\n",
    "md = MarkItDown()\n",
    "processed_lines = []\n",
    "\n",
    "for subfolder in subfolders:\n",
    "    try: \n",
    "        items_in_dir = os.listdir(subfolder)\n",
    "    except OSError as e:\n",
    "        print(f\"Error reading directory {subfolder}: {e}\")    \n",
    "\n",
    "    print(f\"subfolder: {subfolder}\")\n",
    "\n",
    "    for item in items_in_dir:\n",
    "\n",
    "        # skip items in the exclude list\n",
    "        if item in exclude_list:\n",
    "            continue\n",
    "\n",
    "        full_item_path = os.path.join(subfolder, item)       \n",
    "        print(f\"*** item: {full_item_path}\")\n",
    "\n",
    "        if os.path.isfile(full_item_path): # item is a file\n",
    "            result = md.convert(full_item_path)\n",
    "            processed_lines.append(f\"#**>>>>>Path: {full_item_path}<<<<<**\\n\")\n",
    "            processed_lines.append(f\"\\t{result.text_content}\\n\")\n",
    "            processed_lines.append(\"\")\n",
    "        else: \n",
    "            continue\n",
    "\n",
    "md_text = \"\\n\".join(processed_lines)\n",
    "with open(\"output.md\", \"w\") as file:\n",
    "    file.write(md_text)"
   ]
  },
  {
   "cell_type": "code",
   "execution_count": null,
   "id": "b8c0075c",
   "metadata": {},
   "outputs": [
    {
     "name": "stdout",
     "output_type": "stream",
     "text": [
      "database is a directory.\n",
      "schema is a directory.\n",
      "services is a directory.\n",
      "utils is a directory.\n",
      "__pycache__ is a directory.\n"
     ]
    }
   ],
   "source": []
  },
  {
   "cell_type": "code",
   "execution_count": null,
   "id": "764bfc0f",
   "metadata": {},
   "outputs": [],
   "source": [
    "\n"
   ]
  },
  {
   "cell_type": "code",
   "execution_count": null,
   "id": "89a46067",
   "metadata": {},
   "outputs": [],
   "source": []
  },
  {
   "cell_type": "code",
   "execution_count": null,
   "id": "25a56866",
   "metadata": {},
   "outputs": [],
   "source": []
  }
 ],
 "metadata": {
  "kernelspec": {
   "display_name": "utils-projects-py3.12",
   "language": "python",
   "name": "python3"
  },
  "language_info": {
   "codemirror_mode": {
    "name": "ipython",
    "version": 3
   },
   "file_extension": ".py",
   "mimetype": "text/x-python",
   "name": "python",
   "nbconvert_exporter": "python",
   "pygments_lexer": "ipython3",
   "version": "3.12.10"
  }
 },
 "nbformat": 4,
 "nbformat_minor": 5
}
